{
 "cells": [
  {
   "cell_type": "code",
   "execution_count": 1,
   "metadata": {},
   "outputs": [
    {
     "data": {
      "text/plain": [
       "True"
      ]
     },
     "execution_count": 1,
     "metadata": {},
     "output_type": "execute_result"
    }
   ],
   "source": [
    "import torch\n",
    "torch.cuda.is_available()"
   ]
  },
  {
   "cell_type": "code",
   "execution_count": 2,
   "metadata": {},
   "outputs": [
    {
     "data": {
      "text/plain": [
       "tensor([[7, 8, 0, 0, 3, 7, 2, 1, 7, 4],\n",
       "        [5, 2, 0, 9, 9, 5, 7, 0, 6, 7],\n",
       "        [8, 2, 9, 6, 1, 1, 7, 3, 3, 4],\n",
       "        [2, 9, 8, 9, 5, 4, 7, 1, 0, 4],\n",
       "        [1, 7, 2, 1, 8, 7, 8, 0, 6, 2],\n",
       "        [3, 6, 6, 9, 6, 2, 5, 1, 1, 3],\n",
       "        [2, 1, 0, 1, 4, 9, 0, 9, 1, 2],\n",
       "        [4, 9, 1, 6, 5, 7, 5, 3, 5, 7],\n",
       "        [2, 0, 7, 1, 1, 7, 8, 3, 0, 3],\n",
       "        [2, 0, 3, 6, 3, 7, 8, 7, 3, 3]], device='cuda:0')"
      ]
     },
     "execution_count": 2,
     "metadata": {},
     "output_type": "execute_result"
    }
   ],
   "source": [
    "torch.randint(10,(10,10)).to('cuda')"
   ]
  }
 ],
 "metadata": {
  "kernelspec": {
   "display_name": "wss_tem",
   "language": "python",
   "name": "python3"
  },
  "language_info": {
   "codemirror_mode": {
    "name": "ipython",
    "version": 3
   },
   "file_extension": ".py",
   "mimetype": "text/x-python",
   "name": "python",
   "nbconvert_exporter": "python",
   "pygments_lexer": "ipython3",
   "version": "3.8.18"
  }
 },
 "nbformat": 4,
 "nbformat_minor": 2
}
